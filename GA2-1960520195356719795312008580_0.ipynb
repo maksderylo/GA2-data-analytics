{
 "cells": [
  {
   "cell_type": "markdown",
   "metadata": {},
   "source": [
    "# Graded Assignment 2 - Air Quality and Weather in the Netherlands"
   ]
  },
  {
   "cell_type": "markdown",
   "metadata": {},
   "source": [
    "\n",
    "# Introduction to This Template Notebook\n",
    "\n",
    "* This is a **group** notebook.\n",
    "* Make sure you work in a **copy** of `...-template.ipynb`,\n",
    "**renamed** to `...-yourIDnrs.ipynb`,\n",
    "where `yourIDnrs` is the TU/e identification numbers of the members of the group.\n",
    "\n",
    "<div class=\"alert alert-danger\" role=\"danger\">\n",
    "<h3>Integrity</h3>\n",
    "<ul>\n",
    "    <li>In this course you must act according to the rules of the TU/e code of scientific conduct.</li>\n",
    "    <li>This exercise or graded assignment is to be executed by the members of the group independently from other people.</li>\n",
    "    <li>You must not copy from the Internet, your friends, books... If you represent other people's work as your own, then that constitutes fraud and will be reported to the Examination Committee.</li>\n",
    "    <li>Making your work available to others (complicity) also constitutes fraud.</li>\n",
    "</ul>\n",
    "</div>\n",
    "\n",
    "You are expected to work with Python code and Markdown in this notebook.\n",
    "\n",
    "Proceed in this notebook as follows:\n",
    "* **Read** the assignment (separate PDF).\n",
    "* **Write** your decisions/solutions/interpretations in the appropriate sections.\n",
    "  * For this you can use both Code and Markdown cells. Information about how to use these cells is available in the _Getting Started_ assignment.\n",
    "* **Run** _all_ code cells (also the ones _without_ your code),\n",
    "    _in linear order_ from the first code cell.\n",
    "\n",
    "**Personalize your notebook**:\n",
    "1. Copy the following line of code:\n",
    "\n",
    "  ```python\n",
    "  AUTHOR_ID_NRS = ['1234567', '2234567', '3234567', '4234567']\n",
    "  ```\n",
    "1. Paste them between the marker lines in the next code cell.\n",
    "1. Fill in the _identification numbers_ of all members of the group as a list of strings between the `Author` markers.\n",
    "1. Run the code cell by putting the cursor there and typing **Control-Enter**.\n"
   ]
  },
  {
   "cell_type": "code",
   "execution_count": 1,
   "metadata": {},
   "outputs": [],
   "source": [
    "#// BEGIN_TODO [Author] Name, Id.nr., Date, as strings (1 point)\n",
    "\n",
    "AUTHOR_ID_NRS = ['1960520', '1953567', '2008580', '1979531']\n",
    "\n",
    "#// END_TODO [Author]"
   ]
  },
  {
   "cell_type": "markdown",
   "metadata": {},
   "source": [
    "## Table of Contents\n",
    "\n",
    "- [Preparation](#Preparation)\n",
    "    - [Load the libraries](#Load-the-libraries)\n",
    "- [Part 1a. Hypothesis selection](#Part-1a:-Hypothesis-selection)\n",
    "- [Part 1b. Hypothesis refinement](#Part-1b:-Hypothesis-refinement)\n",
    "- [Part 2. Queries and data cleaning](#Part-2:-Queries-and-data-cleaning)\n",
    "- [Part 3. Hypothesis testing and interpretation](#Part-3.-Hypothesis-testing-and-interpretation)\n",
    "- [Part 4. Pitching results](#Part-4.-Pitching-results)"
   ]
  },
  {
   "cell_type": "markdown",
   "metadata": {},
   "source": [
    "## Preparation\n",
    "### Load the libraries"
   ]
  },
  {
   "cell_type": "code",
   "execution_count": 1,
   "metadata": {},
   "outputs": [],
   "source": [
    "import numpy as np\n",
    "import pandas as pd\n",
    "\n",
    "from sklearn.linear_model import LinearRegression         # for linear regression\n",
    "from sklearn.cluster import KMeans                        # for clustering\n",
    "from sklearn.tree import DecisionTreeClassifier           # for decision tree mining\n",
    "from sklearn.metrics import mean_absolute_error, confusion_matrix\n",
    "from sklearn.model_selection import train_test_split\n",
    "from files.treeviz import tree_print                            # to print decision tree\n",
    "\n",
    "import scipy.stats as stats                               # to compute z-scores\n",
    "from scipy.interpolate import interp1d\n",
    "from scipy.ndimage import gaussian_filter1d\n",
    "import sqlite3                                            # to interact with the database\n",
    "import statsmodels.api as sm\n",
    "from statsmodels.distributions.empirical_distribution import ECDF\n",
    "\n",
    "%matplotlib inline                                 \n",
    "import matplotlib as mpl\n",
    "import matplotlib.pyplot as plt\n",
    "import seaborn as sns                                     # also improves the look of plots\n",
    "sns.set()\n",
    "plt.rcParams['figure.figsize'] = 10, 5                    # default hor./vert. size of plots, in inches\n",
    "plt.rcParams['lines.markeredgewidth'] = 1                 # to fix issue with seaborn box plots; needed after import seaborn"
   ]
  },
  {
   "cell_type": "markdown",
   "metadata": {
    "tags": []
   },
   "source": [
    "## Part 1a: Hypothesis selection"
   ]
  },
  {
   "cell_type": "markdown",
   "metadata": {},
   "source": [
    "In this part we choose our research question as well as formulate several hypotheses to eventually pick one that works.\n",
    "\n",
    "**Research question** - How different weather factor correlate with O3 and NOx?\n",
    "\n",
    "### Three formulated hypothesis: \n",
    "\n",
    "#1 The concentration of air pollutants, specifically NOx, O3, is correlated with a combination of industrial emissions, meteorological conditions, and natural phenomena.(Motivation - we would like to find out if the if and how industrial areas correlate with the air pollutants.) \n",
    "\n",
    "#2 Sunshine saturation correlates to concentrations of both NOx and O3 respectively. (Motivation - getting to know if sunshine might take a role in concentration of these compounds.)\n",
    "\n",
    "#3 Thunder correlates to concentration of of O3 while rainfal does not. (Motivation - finding out the difference between the correlations of two different weather conditions and compound concentration.)\n",
    "\n",
    "\n",
    "These hypothese have already been sorted by us from the most prefered to least, so in further steps we will use the hypothesis #1"
   ]
  },
  {
   "cell_type": "markdown",
   "metadata": {},
   "source": [
    "## Part 1b: Hypothesis refinement"
   ]
  },
  {
   "cell_type": "markdown",
   "metadata": {},
   "source": [
    "## Key words\n",
    "\n",
    "First we refine underlined key words to be clear and specific with valid arguments for choices made. Here for the underlinig we use bold text as Jupyter doesn't have a way to underline text.\n",
    "\n",
    "**The original hypothesis**: “ The concentration of air pollutants, specifically NOx, O3, is correlated to a combination of **industrial emissions**, **meteorological conditions**, and **natural phenomena** ”\n",
    "\n",
    "\n",
    "We have refined it as follows:\n",
    "- industrial emissions\n",
    "    - which industrial areas specifically? Rotterdam – because O3 is one of the main pollutants in this area and the US AQI is 48, moreover we have data from measuring stations in that area\n",
    "    - Specify which type emissions: point and mobile   \n",
    " \n",
    "- meteorological conditions\n",
    "   - sunshine saturation (to test if it actually has the same effect on both compounds)\n",
    "   - and temperature (to explore if it is correlated to sunshine saturation, and if so it would also have the same effect on both compounds)\n",
    " - natural phenomena\n",
    "   - Explore the correlation between 03 and BOTH thunder and rainfall (to have a comparison variable) \n",
    "        \n",
    "**The refined hypothesis thus becomes** “The concentration of air pollutants, specifically NOx, O3, is correlated to a combination of emissions coming from industrial areas around Rotterdam , meteorological conditions such as sunshine saturation and temperature, and how it is affected by thunder and rainfall”\n"
   ]
  },
  {
   "cell_type": "markdown",
   "metadata": {},
   "source": [
    "## Confounding variables\n",
    "\n",
    "Before the testing begins we also need to discuss some possible confounding variables that may occcur in our test.\n",
    "\n",
    " 1. Geographical features - The presense of hills, bodies of water and other factors can affect the data for specific weather stations.\n",
    " 2. Other pollutants - the presence of other compounds in the air could have an impact on the concentration of NOx and O3. Some pollutants could react with each other under certain conditions causing different levels of concentration.\n",
    " 3. Human activity - This includes factors as varying industrial activity, for example, with public holidays, COVID lockdown etc.\n",
    " 4. Seasons - during different seasons there are different weather and human activity patterns. For instance, sunshine saturation and temperature varies between summer and winter, but also during winter there is a spike in usage of fossil fuels.\n",
    " "
   ]
  },
  {
   "cell_type": "markdown",
   "metadata": {},
   "source": [
    "## Choosing air quality stations\n",
    "\n",
    "**Considerations while choosing air quality and weather stations**:\n",
    "\n",
    "Air Quality stations in Rotterdam are affected by wind, causing surrounding areas, which are relatively less industrial, to have higher concentrations too.\n",
    "\n",
    "Weather stations in and around Rotterdam need to be chosen with consideration of the types of emissions there. Wind direction and vectors can be observed by comparing concentrations in different directions but at similar distances. Wind speeds can be correlated with the distance to Rotterdam.\n",
    "\n",
    "Compounds such as O3 and NOx, along with sunshine and temperature, need to be monitored. Comparing sunshine and temperature can help look for correlations and determine if they have the same effect on these compounds.\n",
    "\n",
    "In addition to O3 and NOx, thunder and rainfall also need to be taken into account.\n",
    "\n",
    "**Weather Stations** (from the Royal Netherlands Meteorological Institute (KNMI))\n",
    " - STN 344 – Rotterdam \n",
    " - STN 343 – Rotterdam Geulhaven, the station located at the port which may give interesting results\n",
    " \n",
    "**Air Quality Stations** (in order of distance from Rotterdam)\n",
    " - NL01493 - Rotterdam Noord -Statenweg (≈ 4.0 km)\n",
    " - NL01494 - Schiedam-Alphons Arienstraat (≈ 5.5 𝑘𝑚)\n",
    " - NL10418 - Rotterdam-Schiedamsevest(≈ 5.8 𝑘𝑚)\n",
    " - NL10449 - Vlaardingen-Riouwlaan (station closest to the port weather station (≈ 2 𝑘𝑚 ), ≈9.6 𝑘𝑚)\n",
    " \n",
    "**Farther air quality stations**\n",
    " - NL10437 - Westmaas-Groeneweg (direction south, ≈ 19.5 𝑘𝑚)\n",
    " - NL01495 - Maassluis-Kwartellaan (direction west, ≈ 15.4 𝑘𝑚)\n",
    " - NL10442 - Dordrecht-Bamendaweg (direction southeast, ≈ 25.4 𝑘𝑚)\n",
    " \n",
    "Here, we attempted to select stations in different cardinal directions to possibly link wind \n",
    "vector data to changing concentrations.\n",
    "\n",
    "\n",
    "The approximate distance of the air quality stations to the main Rotterdam weather station \n",
    "have been included so that they are taken into consideration while analyzing results. For \n",
    "example, the ‘Farther stations’ should only be compared to each other with attention to their \n",
    "location on the map. This will help to minimize possible outliers and unexpected results while \n",
    "still allowing us to explore the impact of the chosen weather factors with more detail."
   ]
  },
  {
   "cell_type": "markdown",
   "metadata": {},
   "source": [
    "## Part 2: Queries and data cleaning"
   ]
  },
  {
   "cell_type": "markdown",
   "metadata": {},
   "source": [
    "This part is worked on by Sinjini and Maks"
   ]
  },
  {
   "cell_type": "code",
   "execution_count": 27,
   "metadata": {},
   "outputs": [],
   "source": [
    "# Assigning variables to chosen weather stations and compounds\n",
    "\n",
    "aq_station_code_0 = 'NL01493'\n",
    "aq_station_code_1 = 'NL01494'\n",
    "aq_station_code_2 = 'NL10418'\n",
    "aq_station_code_3 = 'NL10449'\n",
    "aq_station_code_4 = 'NL10437'\n",
    "aq_station_code_5 = 'NL01495'\n",
    "aq_station_code_6 = 'NL10442'\n",
    "\n",
    "compound1 = 'o_3'\n",
    "compound2 = 'no_x'\n",
    "\n",
    "aq_station_codes = [aq_station_code_0, aq_station_code_1, aq_station_code_2, aq_station_code_3,\n",
    "                      aq_station_code_4, aq_station_code_5, aq_station_code_6]\n",
    "\n",
    "compound_list = [compound1, compound2]"
   ]
  },
  {
   "cell_type": "code",
   "execution_count": 8,
   "metadata": {},
   "outputs": [
    {
     "name": "stdout",
     "output_type": "stream",
     "text": [
      "The closest weather station to your air quality station, NL01493, is station 344, with a distance of 4.0 kilometers.\n",
      "The closest weather station to your air quality station, NL01494, is station 344, with a distance of 5.5 kilometers.\n",
      "The closest weather station to your air quality station, NL10418, is station 344, with a distance of 5.8 kilometers.\n",
      "The closest weather station to your air quality station, NL10449, is station 344, with a distance of 9.6 kilometers.\n",
      "The closest weather station to your air quality station, NL10437, is station 344, with a distance of 19.5 kilometers.\n",
      "The closest weather station to your air quality station, NL01495, is station 344, with a distance of 15.4 kilometers.\n",
      "The closest weather station to your air quality station, NL10442, is station 344, with a distance of 25.4 kilometers.\n"
     ]
    }
   ],
   "source": [
    "# Queries to verify the closest weather station to the air quality stations\n",
    "\n",
    "# Creating path to the database\n",
    "db_path = 'GA1_files/aqw.db'\n",
    "\n",
    "# Connecting to database\n",
    "cnx = sqlite3.connect(db_path)\n",
    "\n",
    "\n",
    "for aq_station_code in aq_station_codes:\n",
    "    QUERY_WEATHER_STATION = f\"\"\"\n",
    "    SELECT aq_station_code, weather_station_code, distance \n",
    "    FROM close_stations \n",
    "    WHERE aq_station_code='{aq_station_code}' \n",
    "    GROUP BY aq_station_code\n",
    "    \"\"\"\n",
    "\n",
    "    closest_weather_info = pd.read_sql_query(QUERY_WEATHER_STATION, cnx).squeeze()\n",
    "\n",
    "# Extract weather code from the SQL result\n",
    "    weather_station_code = int(closest_weather_info['weather_station_code'])\n",
    "\n",
    "# Extract weather station distance from the SQL result\n",
    "    aq_weather_distance = closest_weather_info['distance']\n",
    "\n",
    "    print(f'The closest weather station to your air quality station, {aq_station_code}, is station '\n",
    "      f'{weather_station_code}, with a distance of {aq_weather_distance} kilometers.')\n",
    "\n",
    " "
   ]
  },
  {
   "cell_type": "markdown",
   "metadata": {},
   "source": [
    "The query above was used to find the closest weather station to each of the selected air quality stations. As was expected and is ideal, they are all closest to the same station, STN 344 in Rotterdam. The estimated distances between stations were changed to more precise ones outputted by the query. This will help us analyse the results in a more informed manner as distance to the weather stations should influence correlations as well and we may have to question their validity. "
   ]
  },
  {
   "cell_type": "code",
   "execution_count": 19,
   "metadata": {},
   "outputs": [
    {
     "data": {
      "text/html": [
       "<div>\n",
       "<style scoped>\n",
       "    .dataframe tbody tr th:only-of-type {\n",
       "        vertical-align: middle;\n",
       "    }\n",
       "\n",
       "    .dataframe tbody tr th {\n",
       "        vertical-align: top;\n",
       "    }\n",
       "\n",
       "    .dataframe thead th {\n",
       "        text-align: right;\n",
       "    }\n",
       "</style>\n",
       "<table border=\"1\" class=\"dataframe\">\n",
       "  <thead>\n",
       "    <tr style=\"text-align: right;\">\n",
       "      <th></th>\n",
       "      <th>o_3</th>\n",
       "      <th>no_x</th>\n",
       "    </tr>\n",
       "    <tr>\n",
       "      <th>datetime</th>\n",
       "      <th></th>\n",
       "      <th></th>\n",
       "    </tr>\n",
       "  </thead>\n",
       "  <tbody>\n",
       "    <tr>\n",
       "      <th>2012-01-01 01:00:00+01:00</th>\n",
       "      <td>66.86</td>\n",
       "      <td>34.96</td>\n",
       "    </tr>\n",
       "    <tr>\n",
       "      <th>2012-01-01 02:00:00+01:00</th>\n",
       "      <td>50.39</td>\n",
       "      <td>13.40</td>\n",
       "    </tr>\n",
       "    <tr>\n",
       "      <th>2012-01-01 03:00:00+01:00</th>\n",
       "      <td>51.44</td>\n",
       "      <td>9.22</td>\n",
       "    </tr>\n",
       "    <tr>\n",
       "      <th>2012-01-01 04:00:00+01:00</th>\n",
       "      <td>51.14</td>\n",
       "      <td>9.38</td>\n",
       "    </tr>\n",
       "    <tr>\n",
       "      <th>2012-01-01 05:00:00+01:00</th>\n",
       "      <td>53.70</td>\n",
       "      <td>7.51</td>\n",
       "    </tr>\n",
       "    <tr>\n",
       "      <th>...</th>\n",
       "      <td>...</td>\n",
       "      <td>...</td>\n",
       "    </tr>\n",
       "    <tr>\n",
       "      <th>2021-12-31 19:00:00+01:00</th>\n",
       "      <td>41.96</td>\n",
       "      <td>11.12</td>\n",
       "    </tr>\n",
       "    <tr>\n",
       "      <th>2021-12-31 20:00:00+01:00</th>\n",
       "      <td>46.89</td>\n",
       "      <td>9.33</td>\n",
       "    </tr>\n",
       "    <tr>\n",
       "      <th>2021-12-31 21:00:00+01:00</th>\n",
       "      <td>45.35</td>\n",
       "      <td>13.17</td>\n",
       "    </tr>\n",
       "    <tr>\n",
       "      <th>2021-12-31 22:00:00+01:00</th>\n",
       "      <td>46.24</td>\n",
       "      <td>10.57</td>\n",
       "    </tr>\n",
       "    <tr>\n",
       "      <th>2021-12-31 23:00:00+01:00</th>\n",
       "      <td>51.02</td>\n",
       "      <td>11.31</td>\n",
       "    </tr>\n",
       "  </tbody>\n",
       "</table>\n",
       "<p>87671 rows × 2 columns</p>\n",
       "</div>"
      ],
      "text/plain": [
       "                             o_3   no_x\n",
       "datetime                               \n",
       "2012-01-01 01:00:00+01:00  66.86  34.96\n",
       "2012-01-01 02:00:00+01:00  50.39  13.40\n",
       "2012-01-01 03:00:00+01:00  51.44   9.22\n",
       "2012-01-01 04:00:00+01:00  51.14   9.38\n",
       "2012-01-01 05:00:00+01:00  53.70   7.51\n",
       "...                          ...    ...\n",
       "2021-12-31 19:00:00+01:00  41.96  11.12\n",
       "2021-12-31 20:00:00+01:00  46.89   9.33\n",
       "2021-12-31 21:00:00+01:00  45.35  13.17\n",
       "2021-12-31 22:00:00+01:00  46.24  10.57\n",
       "2021-12-31 23:00:00+01:00  51.02  11.31\n",
       "\n",
       "[87671 rows x 2 columns]"
      ]
     },
     "execution_count": 19,
     "metadata": {},
     "output_type": "execute_result"
    }
   ],
   "source": [
    "#Extracting air quality data from chosen stations\n",
    "\n",
    "# Getting o_3 and no_2 info of the air quality stations and adding the dataframes to a list to be accessed individually\n",
    "\n",
    "df_aq_code = []\n",
    "\n",
    "for station_code in aq_station_codes:\n",
    "    QUERY_AQ = f\"\"\"\n",
    "        SELECT datetime, {', '.join((compound1, compound2))} \n",
    "        FROM air_quality_data \n",
    "        WHERE station_code='{station_code}'\n",
    "        \"\"\"\n",
    "    \n",
    "    \n",
    "    df_aq_code.append(pd.read_sql_query(QUERY_AQ, cnx, \n",
    "                          index_col='datetime', \n",
    "                          parse_dates=['datetime']))\n",
    "\n",
    "\n",
    "df_aq_code[6]"
   ]
  },
  {
   "cell_type": "code",
   "execution_count": 20,
   "metadata": {},
   "outputs": [
    {
     "data": {
      "text/html": [
       "<div>\n",
       "<style scoped>\n",
       "    .dataframe tbody tr th:only-of-type {\n",
       "        vertical-align: middle;\n",
       "    }\n",
       "\n",
       "    .dataframe tbody tr th {\n",
       "        vertical-align: top;\n",
       "    }\n",
       "\n",
       "    .dataframe thead th {\n",
       "        text-align: right;\n",
       "    }\n",
       "</style>\n",
       "<table border=\"1\" class=\"dataframe\">\n",
       "  <thead>\n",
       "    <tr style=\"text-align: right;\">\n",
       "      <th></th>\n",
       "      <th>o_3</th>\n",
       "      <th>no_x</th>\n",
       "    </tr>\n",
       "    <tr>\n",
       "      <th>datetime</th>\n",
       "      <th></th>\n",
       "      <th></th>\n",
       "    </tr>\n",
       "  </thead>\n",
       "  <tbody>\n",
       "    <tr>\n",
       "      <th>2012-01-01 01:00:00+01:00</th>\n",
       "      <td>28.0</td>\n",
       "      <td>56.180</td>\n",
       "    </tr>\n",
       "    <tr>\n",
       "      <th>2012-01-01 02:00:00+01:00</th>\n",
       "      <td>33.1</td>\n",
       "      <td>40.780</td>\n",
       "    </tr>\n",
       "    <tr>\n",
       "      <th>2012-01-01 03:00:00+01:00</th>\n",
       "      <td>38.3</td>\n",
       "      <td>35.740</td>\n",
       "    </tr>\n",
       "    <tr>\n",
       "      <th>2012-01-01 04:00:00+01:00</th>\n",
       "      <td>40.4</td>\n",
       "      <td>35.210</td>\n",
       "    </tr>\n",
       "    <tr>\n",
       "      <th>2012-01-01 05:00:00+01:00</th>\n",
       "      <td>40.7</td>\n",
       "      <td>32.770</td>\n",
       "    </tr>\n",
       "    <tr>\n",
       "      <th>...</th>\n",
       "      <td>...</td>\n",
       "      <td>...</td>\n",
       "    </tr>\n",
       "    <tr>\n",
       "      <th>2021-12-31 19:00:00+01:00</th>\n",
       "      <td>26.2</td>\n",
       "      <td>36.440</td>\n",
       "    </tr>\n",
       "    <tr>\n",
       "      <th>2021-12-31 20:00:00+01:00</th>\n",
       "      <td>23.8</td>\n",
       "      <td>38.753</td>\n",
       "    </tr>\n",
       "    <tr>\n",
       "      <th>2021-12-31 21:00:00+01:00</th>\n",
       "      <td>23.9</td>\n",
       "      <td>38.680</td>\n",
       "    </tr>\n",
       "    <tr>\n",
       "      <th>2021-12-31 22:00:00+01:00</th>\n",
       "      <td>22.6</td>\n",
       "      <td>43.446</td>\n",
       "    </tr>\n",
       "    <tr>\n",
       "      <th>2021-12-31 23:00:00+01:00</th>\n",
       "      <td>23.9</td>\n",
       "      <td>41.760</td>\n",
       "    </tr>\n",
       "  </tbody>\n",
       "</table>\n",
       "<p>87671 rows × 2 columns</p>\n",
       "</div>"
      ],
      "text/plain": [
       "                            o_3    no_x\n",
       "datetime                               \n",
       "2012-01-01 01:00:00+01:00  28.0  56.180\n",
       "2012-01-01 02:00:00+01:00  33.1  40.780\n",
       "2012-01-01 03:00:00+01:00  38.3  35.740\n",
       "2012-01-01 04:00:00+01:00  40.4  35.210\n",
       "2012-01-01 05:00:00+01:00  40.7  32.770\n",
       "...                         ...     ...\n",
       "2021-12-31 19:00:00+01:00  26.2  36.440\n",
       "2021-12-31 20:00:00+01:00  23.8  38.753\n",
       "2021-12-31 21:00:00+01:00  23.9  38.680\n",
       "2021-12-31 22:00:00+01:00  22.6  43.446\n",
       "2021-12-31 23:00:00+01:00  23.9  41.760\n",
       "\n",
       "[87671 rows x 2 columns]"
      ]
     },
     "execution_count": 20,
     "metadata": {},
     "output_type": "execute_result"
    }
   ],
   "source": [
    "df_aq_code[0]"
   ]
  },
  {
   "cell_type": "code",
   "execution_count": 24,
   "metadata": {},
   "outputs": [],
   "source": [
    "#Assinging a variable to the weather factors that wish to explore for extracting weather data\n",
    "\n",
    "WEATHER_FACTORS = ['wind_direction', 'wind_speed', 'temperature', \n",
    "                  'sunshine_duration', 'rainfall', 'thunder']\n",
    "\n",
    "QUERY_WEATHER = f\"\"\"\n",
    "    SELECT datetime, {', '.join(WEATHER_FACTORS)} \n",
    "    FROM weather_data \n",
    "    WHERE station_code={weather_station_code}\n",
    "\"\"\"\n",
    "\n",
    "# Get weather data of the closest weather station\n",
    "df_weather = pd.read_sql_query(QUERY_WEATHER, cnx, \n",
    "                               index_col='datetime', \n",
    "                               parse_dates=['datetime'])\n",
    "\n"
   ]
  },
  {
   "cell_type": "code",
   "execution_count": 41,
   "metadata": {},
   "outputs": [
    {
     "ename": "TypeError",
     "evalue": "string indices must be integers",
     "output_type": "error",
     "traceback": [
      "\u001b[1;31m---------------------------------------------------------------------------\u001b[0m",
      "\u001b[1;31mTypeError\u001b[0m                                 Traceback (most recent call last)",
      "Cell \u001b[1;32mIn[41], line 7\u001b[0m\n\u001b[0;32m      3\u001b[0m \u001b[38;5;28;01mfor\u001b[39;00m i, df_aq_code_i \u001b[38;5;129;01min\u001b[39;00m \u001b[38;5;28menumerate\u001b[39m(df_aq_code):\n\u001b[0;32m      5\u001b[0m     selected_columns \u001b[38;5;241m=\u001b[39m [\u001b[38;5;124m'\u001b[39m\u001b[38;5;124mdatetime\u001b[39m\u001b[38;5;124m'\u001b[39m] \u001b[38;5;241m+\u001b[39m compound_list\n\u001b[1;32m----> 7\u001b[0m     joined_df \u001b[38;5;241m=\u001b[39m \u001b[43mdf_aq_code_i\u001b[49m\u001b[43m[\u001b[49m\u001b[43mselected_columns\u001b[49m\u001b[43m]\u001b[49m\u001b[38;5;241m.\u001b[39mjoin(df_weather, how\u001b[38;5;241m=\u001b[39m\u001b[38;5;124m'\u001b[39m\u001b[38;5;124mouter\u001b[39m\u001b[38;5;124m'\u001b[39m, rsuffix\u001b[38;5;241m=\u001b[39m\u001b[38;5;124mf\u001b[39m\u001b[38;5;124m'\u001b[39m\u001b[38;5;124m_\u001b[39m\u001b[38;5;132;01m{\u001b[39;00mi\u001b[38;5;132;01m}\u001b[39;00m\u001b[38;5;124m'\u001b[39m)\n\u001b[0;32m      9\u001b[0m     df_data_list\u001b[38;5;241m.\u001b[39mappend(joined_df)\n",
      "\u001b[1;31mTypeError\u001b[0m: string indices must be integers"
     ]
    }
   ],
   "source": [
    "\n",
    "df_data_list = []\n",
    "\n",
    "for i, df_aq_code_i in enumerate(df_aq_code):\n",
    "    \n",
    "    selected_columns = ['datetime'] + compound_list\n",
    "    \n",
    "    joined_df = df_aq_code_i[selected_columns].join(df_weather, how='outer', rsuffix=f'_{i}')\n",
    "    \n",
    "    df_data_list.append(joined_df)"
   ]
  },
  {
   "cell_type": "code",
   "execution_count": 32,
   "metadata": {},
   "outputs": [],
   "source": [
    "df_data['year'] = df_data.index.year\n",
    "df_data['month'] = df_data.index.month\n",
    "df_data['day_of_year'] = df_data.index.dayofyear\n",
    "df_data['week'] = df_data['day_of_year'] // 7 + 1\n",
    "df_data['hour'] = df_data.index.hour"
   ]
  },
  {
   "cell_type": "code",
   "execution_count": 33,
   "metadata": {},
   "outputs": [
    {
     "data": {
      "text/html": [
       "<div>\n",
       "<style scoped>\n",
       "    .dataframe tbody tr th:only-of-type {\n",
       "        vertical-align: middle;\n",
       "    }\n",
       "\n",
       "    .dataframe tbody tr th {\n",
       "        vertical-align: top;\n",
       "    }\n",
       "\n",
       "    .dataframe thead th {\n",
       "        text-align: right;\n",
       "    }\n",
       "</style>\n",
       "<table border=\"1\" class=\"dataframe\">\n",
       "  <thead>\n",
       "    <tr style=\"text-align: right;\">\n",
       "      <th></th>\n",
       "      <th>o_3</th>\n",
       "      <th>no_x</th>\n",
       "      <th>wind_direction</th>\n",
       "      <th>wind_speed</th>\n",
       "      <th>temperature</th>\n",
       "      <th>sunshine_duration</th>\n",
       "      <th>rainfall</th>\n",
       "      <th>thunder</th>\n",
       "      <th>year</th>\n",
       "      <th>month</th>\n",
       "      <th>day_of_year</th>\n",
       "      <th>week</th>\n",
       "      <th>hour</th>\n",
       "    </tr>\n",
       "    <tr>\n",
       "      <th>datetime</th>\n",
       "      <th></th>\n",
       "      <th></th>\n",
       "      <th></th>\n",
       "      <th></th>\n",
       "      <th></th>\n",
       "      <th></th>\n",
       "      <th></th>\n",
       "      <th></th>\n",
       "      <th></th>\n",
       "      <th></th>\n",
       "      <th></th>\n",
       "      <th></th>\n",
       "      <th></th>\n",
       "    </tr>\n",
       "  </thead>\n",
       "  <tbody>\n",
       "    <tr>\n",
       "      <th>2012-01-01 00:00:00+01:00</th>\n",
       "      <td>NaN</td>\n",
       "      <td>NaN</td>\n",
       "      <td>230</td>\n",
       "      <td>9.0</td>\n",
       "      <td>10.7</td>\n",
       "      <td>0.0</td>\n",
       "      <td>1</td>\n",
       "      <td>0</td>\n",
       "      <td>2012</td>\n",
       "      <td>1</td>\n",
       "      <td>1</td>\n",
       "      <td>1</td>\n",
       "      <td>0</td>\n",
       "    </tr>\n",
       "    <tr>\n",
       "      <th>2012-01-01 01:00:00+01:00</th>\n",
       "      <td>66.86</td>\n",
       "      <td>34.96</td>\n",
       "      <td>240</td>\n",
       "      <td>8.0</td>\n",
       "      <td>10.9</td>\n",
       "      <td>0.0</td>\n",
       "      <td>1</td>\n",
       "      <td>0</td>\n",
       "      <td>2012</td>\n",
       "      <td>1</td>\n",
       "      <td>1</td>\n",
       "      <td>1</td>\n",
       "      <td>1</td>\n",
       "    </tr>\n",
       "    <tr>\n",
       "      <th>2012-01-01 02:00:00+01:00</th>\n",
       "      <td>50.39</td>\n",
       "      <td>13.40</td>\n",
       "      <td>230</td>\n",
       "      <td>8.0</td>\n",
       "      <td>11.1</td>\n",
       "      <td>0.0</td>\n",
       "      <td>1</td>\n",
       "      <td>0</td>\n",
       "      <td>2012</td>\n",
       "      <td>1</td>\n",
       "      <td>1</td>\n",
       "      <td>1</td>\n",
       "      <td>2</td>\n",
       "    </tr>\n",
       "    <tr>\n",
       "      <th>2012-01-01 03:00:00+01:00</th>\n",
       "      <td>51.44</td>\n",
       "      <td>9.22</td>\n",
       "      <td>230</td>\n",
       "      <td>10.0</td>\n",
       "      <td>11.4</td>\n",
       "      <td>0.0</td>\n",
       "      <td>1</td>\n",
       "      <td>0</td>\n",
       "      <td>2012</td>\n",
       "      <td>1</td>\n",
       "      <td>1</td>\n",
       "      <td>1</td>\n",
       "      <td>3</td>\n",
       "    </tr>\n",
       "    <tr>\n",
       "      <th>2012-01-01 04:00:00+01:00</th>\n",
       "      <td>51.14</td>\n",
       "      <td>9.38</td>\n",
       "      <td>230</td>\n",
       "      <td>10.0</td>\n",
       "      <td>11.4</td>\n",
       "      <td>0.0</td>\n",
       "      <td>1</td>\n",
       "      <td>0</td>\n",
       "      <td>2012</td>\n",
       "      <td>1</td>\n",
       "      <td>1</td>\n",
       "      <td>1</td>\n",
       "      <td>4</td>\n",
       "    </tr>\n",
       "  </tbody>\n",
       "</table>\n",
       "</div>"
      ],
      "text/plain": [
       "                             o_3   no_x  wind_direction  wind_speed  \\\n",
       "datetime                                                              \n",
       "2012-01-01 00:00:00+01:00    NaN    NaN             230         9.0   \n",
       "2012-01-01 01:00:00+01:00  66.86  34.96             240         8.0   \n",
       "2012-01-01 02:00:00+01:00  50.39  13.40             230         8.0   \n",
       "2012-01-01 03:00:00+01:00  51.44   9.22             230        10.0   \n",
       "2012-01-01 04:00:00+01:00  51.14   9.38             230        10.0   \n",
       "\n",
       "                           temperature  sunshine_duration  rainfall  thunder  \\\n",
       "datetime                                                                       \n",
       "2012-01-01 00:00:00+01:00         10.7                0.0         1        0   \n",
       "2012-01-01 01:00:00+01:00         10.9                0.0         1        0   \n",
       "2012-01-01 02:00:00+01:00         11.1                0.0         1        0   \n",
       "2012-01-01 03:00:00+01:00         11.4                0.0         1        0   \n",
       "2012-01-01 04:00:00+01:00         11.4                0.0         1        0   \n",
       "\n",
       "                           year  month  day_of_year  week  hour  \n",
       "datetime                                                         \n",
       "2012-01-01 00:00:00+01:00  2012      1            1     1     0  \n",
       "2012-01-01 01:00:00+01:00  2012      1            1     1     1  \n",
       "2012-01-01 02:00:00+01:00  2012      1            1     1     2  \n",
       "2012-01-01 03:00:00+01:00  2012      1            1     1     3  \n",
       "2012-01-01 04:00:00+01:00  2012      1            1     1     4  "
      ]
     },
     "execution_count": 33,
     "metadata": {},
     "output_type": "execute_result"
    }
   ],
   "source": [
    "df_data.head()"
   ]
  },
  {
   "cell_type": "markdown",
   "metadata": {},
   "source": [
    "End of the part done by Sinjini and Maks"
   ]
  },
  {
   "cell_type": "code",
   "execution_count": 45,
   "metadata": {},
   "outputs": [
    {
     "data": {
      "text/plain": [
       "<Axes: >"
      ]
     },
     "execution_count": 45,
     "metadata": {},
     "output_type": "execute_result"
    },
    {
     "data": {
      "image/png": "[encoded data removed]",
      "text/plain": [
       "<Figure size 800x600 with 4 Axes>"
      ]
     },
     "metadata": {},
     "output_type": "display_data"
    }
   ],
   "source": [
    "#Plotting weather factors except rainfall and thunder to make sure the data is correct/reasonable\n",
    "\n",
    "fig, ax = plt.subplots(nrows=2, ncols=2, figsize=(8, 6))\n",
    "\n",
    "sns.boxplot(df_data['temperature'], ax=ax[0][0])\n",
    "sns.boxplot(df_data['sunshine_duration'], ax=ax[0][1])\n",
    "sns.boxplot(df_data['wind_direction'], ax=ax[1][0])\n",
    "sns.boxplot(df_data['wind_speed'], ax=ax[1][1])\n"
   ]
  },
  {
   "cell_type": "code",
   "execution_count": null,
   "metadata": {},
   "outputs": [],
   "source": []
  },
  {
   "cell_type": "markdown",
   "metadata": {},
   "source": [
    "## Part 3. Hypothesis testing and interpretation"
   ]
  },
  {
   "cell_type": "code",
   "execution_count": null,
   "metadata": {},
   "outputs": [],
   "source": [
    "# Use this cell as you like, and add more cells as needed."
   ]
  },
  {
   "cell_type": "markdown",
   "metadata": {},
   "source": [
    "## Part 4. Polishing and pitching results"
   ]
  },
  {
   "cell_type": "code",
   "execution_count": null,
   "metadata": {},
   "outputs": [],
   "source": [
    "# This section is only for generating figures if you need it. You may leave it empty.\n"
   ]
  },
  {
   "cell_type": "code",
   "execution_count": null,
   "metadata": {},
   "outputs": [],
   "source": [
    "# Close database connection\n",
    "cnx.close()"
   ]
  },
  {
   "cell_type": "markdown",
   "metadata": {},
   "source": [
    "# Feedback\n",
    "\n",
    "Please fill in this questionaire to help us improve this course for the next year. Your feedback will be anonymized and will not affect your grade in any way!"
   ]
  },
  {
   "cell_type": "markdown",
   "metadata": {},
   "source": [
    "### How many hours did you spend on these exercises?\n",
    "\n",
    "Assign a number to `feedback_time`."
   ]
  },
  {
   "cell_type": "code",
   "execution_count": null,
   "metadata": {},
   "outputs": [],
   "source": [
    "#// BEGIN_FEEDBACK [Feedback_1] (0 point)\n",
    "\n",
    "#// END_FEEDBACK [Feedback_1] (0 point)\n",
    "\n",
    "import numbers\n",
    "\n",
    "assert isinstance(feedback_time, numbers.Number), \"Please assign a number to feedback_time\"\n",
    "print(feedback_time)"
   ]
  },
  {
   "cell_type": "markdown",
   "metadata": {},
   "source": [
    "### How difficult did you find these exercises?\n",
    "\n",
    "Assign an integer to `feedback_difficulty`, on a scale 0 - 10, with 0 being very easy, 5 being just right, and 10 being very difficult."
   ]
  },
  {
   "cell_type": "code",
   "execution_count": null,
   "metadata": {},
   "outputs": [],
   "source": [
    "#// BEGIN_FEEDBACK [Feedback_2] (0 point)\n",
    "\n",
    "#// END_FEEDBACK [Feedback_2] (0 point)\n",
    "\n",
    "import numbers\n",
    "\n",
    "assert isinstance(feedback_difficulty, numbers.Number), \"Please assign a number to feedback_difficulty\"\n",
    "print(feedback_difficulty)"
   ]
  },
  {
   "cell_type": "markdown",
   "metadata": {},
   "source": [
    "### (Optional) What did you like?\n",
    "\n",
    "Assign a string to `feedback_like`."
   ]
  },
  {
   "cell_type": "code",
   "execution_count": null,
   "metadata": {},
   "outputs": [],
   "source": [
    "#// BEGIN_FEEDBACK [Feedback_3] (0 point)\n",
    "\n",
    "#// END_FEEDBACK [Feedback_3] (0 point)"
   ]
  },
  {
   "cell_type": "markdown",
   "metadata": {},
   "source": [
    "### (Optional) What can be improved?\n",
    "\n",
    "Assign a string to `feedback_improve`. Please be specific, so that we can act on your feedback. For example, mention the specific exercises and what was unclear."
   ]
  },
  {
   "cell_type": "code",
   "execution_count": null,
   "metadata": {},
   "outputs": [],
   "source": [
    "#// BEGIN_FEEDBACK [Feedback_4] (0 point)\n",
    "\n",
    "#// END_FEEDBACK [Feedback_4] (0 point)"
   ]
  },
  {
   "cell_type": "markdown",
   "metadata": {},
   "source": [
    "\n",
    "\n",
    "\n",
    "## How to Submit Your Work\n",
    "\n",
    "1. **Before submitting**, you must run your notebook by doing **Kernel > Restart & Run All**.  \n",
    "   Make sure that your notebook runs without errors **in linear order**.\n",
    "1. Remember to rename the notebook as explained at the beginning of this notebook.\n",
    "1. Submit the executed notebook with your work\n",
    "   for the appropriate assignment in **Canvas**.\n",
    "1. In the **Momotor** tab in Canvas,\n",
    "  you can select that assignment again to find some feedback on your submitted work.\n",
    "  If there are any problems reported by _Momotor_,\n",
    "  then you need to fix those,\n",
    "  and **resubmit the fixed notebook**.\n",
    "\n",
    "In case of a high workload on our server\n",
    "(because many students submit close to the deadline),\n",
    "it may take longer to receive the feedback.\n",
    "\n",
    "\n"
   ]
  },
  {
   "cell_type": "markdown",
   "metadata": {},
   "source": [
    "---"
   ]
  },
  {
   "cell_type": "code",
   "execution_count": null,
   "metadata": {},
   "outputs": [],
   "source": [
    "# List all defined names\n",
    "%whos"
   ]
  },
  {
   "cell_type": "markdown",
   "metadata": {},
   "source": [
    "---\n",
    "\n",
    "# (End of Notebook) <span class=\"tocSkip\"></span>\n",
    "\n",
    "&copy; 2017-2023 - **TU/e** - Eindhoven University of Technology"
   ]
  }
 ],
 "metadata": {
  "anaconda-cloud": {},
  "hide_input": false,
  "kernelspec": {
   "display_name": "Python 3 (ipykernel)",
   "language": "python",
   "name": "python3"
  },
  "language_info": {
   "codemirror_mode": {
    "name": "ipython",
    "version": 3
   },
   "file_extension": ".py",
   "mimetype": "text/x-python",
   "name": "python",
   "nbconvert_exporter": "python",
   "pygments_lexer": "ipython3",
   "version": "3.10.9"
  },
  "toc": {
   "base_numbering": 1,
   "nav_menu": {
    "height": "264px",
    "width": "252px"
   },
   "number_sections": false,
   "sideBar": true,
   "skip_h1_title": false,
   "title_cell": "Table of Contents",
   "title_sidebar": "Contents",
   "toc_cell": true,
   "toc_position": {
    "height": "calc(100% - 180px)",
    "left": "10px",
    "top": "150px",
    "width": "234px"
   },
   "toc_section_display": "block",
   "toc_window_display": true
  },
  "vscode": {
   "interpreter": {
    "hash": "60e5673dee0b20898bfa4f3c497959fb0c8d0d39a7f6ea9d7f166a7012267d3f"
   }
  }
 },
 "nbformat": 4,
 "nbformat_minor": 4
}
